{
  "nbformat": 4,
  "nbformat_minor": 0,
  "metadata": {
    "colab": {
      "provenance": [],
      "authorship_tag": "ABX9TyMqsCPGkaub+K/CAdHSj9dE",
      "include_colab_link": true
    },
    "kernelspec": {
      "name": "python3",
      "display_name": "Python 3"
    },
    "language_info": {
      "name": "python"
    }
  },
  "cells": [
    {
      "cell_type": "markdown",
      "metadata": {
        "id": "view-in-github",
        "colab_type": "text"
      },
      "source": [
        "<a href=\"https://colab.research.google.com/github/DimasWerito/goit-algo-hw-08/blob/main/Untitled4.ipynb\" target=\"_parent\"><img src=\"https://colab.research.google.com/assets/colab-badge.svg\" alt=\"Open In Colab\"/></a>"
      ]
    },
    {
      "cell_type": "markdown",
      "source": [
        "# Завдання 1"
      ],
      "metadata": {
        "id": "KnKzBl1nxq-z"
      }
    },
    {
      "cell_type": "code",
      "execution_count": 1,
      "metadata": {
        "colab": {
          "base_uri": "https://localhost:8080/"
        },
        "id": "HMAnPGp3xhRj",
        "outputId": "44d96044-2b3e-4fdf-a1ab-6073575b8c87"
      },
      "outputs": [
        {
          "output_type": "stream",
          "name": "stdout",
          "text": [
            "Мінімальні витрати на з'єднання всіх кабелів: 29\n"
          ]
        }
      ],
      "source": [
        "import heapq\n",
        "\n",
        "def min_cost_to_connect_cables(cables):\n",
        "    # Створення мінімальної купи\n",
        "    heapq.heapify(cables)\n",
        "\n",
        "    total_cost = 0\n",
        "\n",
        "    while len(cables) > 1:\n",
        "        # Витягуємо два найменших кабелі з купи\n",
        "        first = heapq.heappop(cables)\n",
        "        second = heapq.heappop(cables)\n",
        "\n",
        "        # Обчислюємо витрати на з'єднання цих двох кабелів\n",
        "        cost = first + second\n",
        "        total_cost += cost\n",
        "\n",
        "        # Вставляємо новий кабель назад у купу\n",
        "        heapq.heappush(cables, cost)\n",
        "\n",
        "    return total_cost\n",
        "\n",
        "# Приклад використання\n",
        "cables = [4, 3, 2, 6]\n",
        "print(f\"Мінімальні витрати на з'єднання всіх кабелів: {min_cost_to_connect_cables(cables)}\")\n"
      ]
    },
    {
      "cell_type": "markdown",
      "source": [
        "# Додаткове завдання"
      ],
      "metadata": {
        "id": "il8W_1KcyPB1"
      }
    },
    {
      "cell_type": "code",
      "source": [
        "import heapq\n",
        "\n",
        "def merge_k_lists(lists):\n",
        "    # Створюємо мінімальну купу\n",
        "    min_heap = []\n",
        "\n",
        "    # Вставляємо перші елементи всіх списків у купу\n",
        "    for i in range(len(lists)):\n",
        "        if lists[i]:\n",
        "            heapq.heappush(min_heap, (lists[i][0], i, 0))\n",
        "\n",
        "    merged_list = []\n",
        "\n",
        "    while min_heap:\n",
        "        # Витягуємо найменший елемент з купи\n",
        "        val, list_idx, element_idx = heapq.heappop(min_heap)\n",
        "        merged_list.append(val)\n",
        "\n",
        "        # Додаємо наступний елемент з того ж списку у купу, якщо такий існує\n",
        "        if element_idx + 1 < len(lists[list_idx]):\n",
        "            next_val = lists[list_idx][element_idx + 1]\n",
        "            heapq.heappush(min_heap, (next_val, list_idx, element_idx + 1))\n",
        "\n",
        "    return merged_list\n",
        "\n",
        "# Приклад використання\n",
        "lists = [[1, 4, 5], [1, 3, 4], [2, 6]]\n",
        "merged_list = merge_k_lists(lists)\n",
        "print(\"Відсортований список:\", merged_list)\n"
      ],
      "metadata": {
        "colab": {
          "base_uri": "https://localhost:8080/"
        },
        "id": "PzwmE_cQyScX",
        "outputId": "d37829b0-95e3-4d76-f37d-92a6327542da"
      },
      "execution_count": 2,
      "outputs": [
        {
          "output_type": "stream",
          "name": "stdout",
          "text": [
            "Відсортований список: [1, 1, 2, 3, 4, 4, 5, 6]\n"
          ]
        }
      ]
    }
  ]
}